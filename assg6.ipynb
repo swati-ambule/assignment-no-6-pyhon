{
 "cells": [
  {
   "cell_type": "markdown",
   "metadata": {},
   "source": [
    "ASSIGNMENT NO.1:-make keys of given dictionary values and values keys"
   ]
  },
  {
   "cell_type": "code",
   "execution_count": 2,
   "metadata": {},
   "outputs": [
    {
     "name": "stdout",
     "output_type": "stream",
     "text": [
      "Original dictionary is : \n",
      "{21: 'FTP', 22: 'SSH', 23: 'telnet', 80: 'http'}\n",
      "\n",
      "keys: values\n",
      "FTP  :   21\n",
      "SSH  :   22\n",
      "telnet  :   23\n",
      "http  :   80\n"
     ]
    }
   ],
   "source": [
    " port1 = {21: \"FTP\", 22:\"SSH\", 23: \"telnet\", 80: \"http\"}\n",
    "  \n",
    "new_dict = dict([(value, key) for key, value in port1.items()]) \n",
    "      \n",
    "print (\"Original dictionary is : \") \n",
    "print(port1)  \n",
    "  \n",
    "print() \n",
    "  \n",
    "  \n",
    "print(\"keys: values\") \n",
    "for i in new_dict: \n",
    "    print(i, \" :  \", new_dict[i]) "
   ]
  },
  {
   "cell_type": "code",
   "execution_count": 3,
   "metadata": {},
   "outputs": [
    {
     "name": "stdout",
     "output_type": "stream",
     "text": [
      "{'ftp': 21, 'ssh': 22, 'telnet': 23, 'http': 80}\n"
     ]
    }
   ],
   "source": [
    "port1={ 21: 'ftp', 22: 'ssh', 23: 'telnet', 80: 'http'}\n",
    "port2={}\n",
    "for k,v in port1.items():\n",
    "    port2[v]=k\n",
    "\n",
    "print(port2)"
   ]
  },
  {
   "cell_type": "code",
   "execution_count": null,
   "metadata": {},
   "outputs": [],
   "source": [
    "ASSIGNMENT NO 2:-Take a list of tuples and make new list contain sum of numbers in tuple"
   ]
  },
  {
   "cell_type": "code",
   "execution_count": 1,
   "metadata": {},
   "outputs": [
    {
     "data": {
      "text/plain": [
       "[3, 7, 11, 9]"
      ]
     },
     "execution_count": 1,
     "metadata": {},
     "output_type": "execute_result"
    }
   ],
   "source": [
    "list1=[(1,2),(3,4),(5,6),(4,5)]\n",
    "list2=[]\n",
    "for i in list1:\n",
    "    list2.append(i[0]+i[1])\n",
    "    \n",
    "list2"
   ]
  },
  {
   "cell_type": "markdown",
   "metadata": {},
   "source": [
    "ASSIGNMENT NO 3:-Make elements of list in given list be elements of inner list and tuple to be elements of outer list"
   ]
  },
  {
   "cell_type": "code",
   "execution_count": 2,
   "metadata": {},
   "outputs": [
    {
     "name": "stdout",
     "output_type": "stream",
     "text": [
      "[1, 2, 3, [1, 2, 'a', 'hit', 'less']]\n"
     ]
    }
   ],
   "source": [
    "l=[(1,2,3),[1,2],[\"a\",\"hit\",\"less\"]]\n",
    "l2=[]\n",
    "for i in l:\n",
    "    if type(i)==tuple:\n",
    "        l1=list(i)\n",
    "    if type(i)==list:\n",
    "        l2=l2+i\n",
    "        \n",
    "l1.append(l2)\n",
    "print(l1)"
   ]
  },
  {
   "cell_type": "code",
   "execution_count": null,
   "metadata": {},
   "outputs": [],
   "source": []
  }
 ],
 "metadata": {
  "kernelspec": {
   "display_name": "Python 3",
   "language": "python",
   "name": "python3"
  },
  "language_info": {
   "codemirror_mode": {
    "name": "ipython",
    "version": 3
   },
   "file_extension": ".py",
   "mimetype": "text/x-python",
   "name": "python",
   "nbconvert_exporter": "python",
   "pygments_lexer": "ipython3",
   "version": "3.7.6"
  }
 },
 "nbformat": 4,
 "nbformat_minor": 4
}
